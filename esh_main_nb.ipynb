{
 "cells": [
  {
   "cell_type": "markdown",
   "metadata": {
    "id": "nyE_MqOoaY_B"
   },
   "source": [
    "# Esh: Non-Monotonic Activation Function\n"
   ]
  },
  {
   "cell_type": "markdown",
   "metadata": {
    "id": "ooY7bdgmnnKW"
   },
   "source": [
    "## Install Packages"
   ]
  },
  {
   "cell_type": "code",
   "execution_count": null,
   "metadata": {
    "colab": {
     "base_uri": "https://localhost:8080/"
    },
    "id": "9bUreYEMN0FF",
    "outputId": "bd8590f5-5e17-4f0e-9ddd-284d65f50622"
   },
   "outputs": [
    {
     "name": "stdout",
     "output_type": "stream",
     "text": [
      "Collecting wandb\n",
      "\u001b[?25l  Downloading https://files.pythonhosted.org/packages/ca/5e/9df94df3bfee51b92b54a5e6fa277d6e1fcdf1f27b1872214b98f55ec0f7/wandb-0.10.12-py2.py3-none-any.whl (1.8MB)\n",
      "\u001b[K     |████████████████████████████████| 1.8MB 13.1MB/s \n",
      "\u001b[?25hCollecting sentry-sdk>=0.4.0\n",
      "\u001b[?25l  Downloading https://files.pythonhosted.org/packages/61/e1/3a9f8ca1009fc6a1e850801f2386e9d88b95147218cbe8c33bc4d60b3695/sentry_sdk-0.19.4-py2.py3-none-any.whl (128kB)\n",
      "\u001b[K     |████████████████████████████████| 133kB 50.2MB/s \n",
      "\u001b[?25hCollecting GitPython>=1.0.0\n",
      "\u001b[?25l  Downloading https://files.pythonhosted.org/packages/24/d1/a7f8fe3df258549b303415157328bfcc63e9b11d06a7ad7a3327f3d32606/GitPython-3.1.11-py3-none-any.whl (159kB)\n",
      "\u001b[K     |████████████████████████████████| 163kB 50.3MB/s \n",
      "\u001b[?25hCollecting docker-pycreds>=0.4.0\n",
      "  Downloading https://files.pythonhosted.org/packages/f5/e8/f6bd1eee09314e7e6dee49cbe2c5e22314ccdb38db16c9fc72d2fa80d054/docker_pycreds-0.4.0-py2.py3-none-any.whl\n",
      "Collecting subprocess32>=3.5.3\n",
      "\u001b[?25l  Downloading https://files.pythonhosted.org/packages/32/c8/564be4d12629b912ea431f1a50eb8b3b9d00f1a0b1ceff17f266be190007/subprocess32-3.5.4.tar.gz (97kB)\n",
      "\u001b[K     |████████████████████████████████| 102kB 11.2MB/s \n",
      "\u001b[?25hRequirement already satisfied: Click>=7.0 in /usr/local/lib/python3.6/dist-packages (from wandb) (7.1.2)\n",
      "Requirement already satisfied: six>=1.13.0 in /usr/local/lib/python3.6/dist-packages (from wandb) (1.15.0)\n",
      "Requirement already satisfied: PyYAML in /usr/local/lib/python3.6/dist-packages (from wandb) (3.13)\n",
      "Collecting watchdog>=0.8.3\n",
      "\u001b[?25l  Downloading https://files.pythonhosted.org/packages/6f/10/500580a0987363a0d9e1f3dd5cb1bba94a47e19266c6ce9dfb6cdd455758/watchdog-0.10.4.tar.gz (98kB)\n",
      "\u001b[K     |████████████████████████████████| 102kB 11.6MB/s \n",
      "\u001b[?25hRequirement already satisfied: promise<3,>=2.0 in /usr/local/lib/python3.6/dist-packages (from wandb) (2.3)\n",
      "Requirement already satisfied: protobuf>=3.12.0 in /usr/local/lib/python3.6/dist-packages (from wandb) (3.12.4)\n",
      "Requirement already satisfied: requests<3,>=2.0.0 in /usr/local/lib/python3.6/dist-packages (from wandb) (2.23.0)\n",
      "Collecting shortuuid>=0.5.0\n",
      "  Downloading https://files.pythonhosted.org/packages/25/a6/2ecc1daa6a304e7f1b216f0896b26156b78e7c38e1211e9b798b4716c53d/shortuuid-1.0.1-py3-none-any.whl\n",
      "Requirement already satisfied: psutil>=5.0.0 in /usr/local/lib/python3.6/dist-packages (from wandb) (5.4.8)\n",
      "Collecting configparser>=3.8.1\n",
      "  Downloading https://files.pythonhosted.org/packages/08/b2/ef713e0e67f6e7ec7d59aea3ee78d05b39c15930057e724cc6d362a8c3bb/configparser-5.0.1-py3-none-any.whl\n",
      "Requirement already satisfied: python-dateutil>=2.6.1 in /usr/local/lib/python3.6/dist-packages (from wandb) (2.8.1)\n",
      "Requirement already satisfied: urllib3>=1.10.0 in /usr/local/lib/python3.6/dist-packages (from sentry-sdk>=0.4.0->wandb) (1.24.3)\n",
      "Requirement already satisfied: certifi in /usr/local/lib/python3.6/dist-packages (from sentry-sdk>=0.4.0->wandb) (2020.11.8)\n",
      "Collecting gitdb<5,>=4.0.1\n",
      "\u001b[?25l  Downloading https://files.pythonhosted.org/packages/48/11/d1800bca0a3bae820b84b7d813ad1eff15a48a64caea9c823fc8c1b119e8/gitdb-4.0.5-py3-none-any.whl (63kB)\n",
      "\u001b[K     |████████████████████████████████| 71kB 9.4MB/s \n",
      "\u001b[?25hCollecting pathtools>=0.1.1\n",
      "  Downloading https://files.pythonhosted.org/packages/e7/7f/470d6fcdf23f9f3518f6b0b76be9df16dcc8630ad409947f8be2eb0ed13a/pathtools-0.1.2.tar.gz\n",
      "Requirement already satisfied: setuptools in /usr/local/lib/python3.6/dist-packages (from protobuf>=3.12.0->wandb) (50.3.2)\n",
      "Requirement already satisfied: chardet<4,>=3.0.2 in /usr/local/lib/python3.6/dist-packages (from requests<3,>=2.0.0->wandb) (3.0.4)\n",
      "Requirement already satisfied: idna<3,>=2.5 in /usr/local/lib/python3.6/dist-packages (from requests<3,>=2.0.0->wandb) (2.10)\n",
      "Collecting smmap<4,>=3.0.1\n",
      "  Downloading https://files.pythonhosted.org/packages/b0/9a/4d409a6234eb940e6a78dfdfc66156e7522262f5f2fecca07dc55915952d/smmap-3.0.4-py2.py3-none-any.whl\n",
      "Building wheels for collected packages: subprocess32, watchdog, pathtools\n",
      "  Building wheel for subprocess32 (setup.py) ... \u001b[?25l\u001b[?25hdone\n",
      "  Created wheel for subprocess32: filename=subprocess32-3.5.4-cp36-none-any.whl size=6489 sha256=a6b4b9f67d4c74b05bb85ea4ee093fe385514140cd06c16dfee4e4f8a73b9946\n",
      "  Stored in directory: /root/.cache/pip/wheels/68/39/1a/5e402bdfdf004af1786c8b853fd92f8c4a04f22aad179654d1\n",
      "  Building wheel for watchdog (setup.py) ... \u001b[?25l\u001b[?25hdone\n",
      "  Created wheel for watchdog: filename=watchdog-0.10.4-cp36-none-any.whl size=74841 sha256=1f79f646c251512277d97a6475c8e7903a957b68cf1310999f5eec4e131b8366\n",
      "  Stored in directory: /root/.cache/pip/wheels/9e/11/04/5160b8815b0cc7cf574bdc6d053e510169ec264c8791b4ec3a\n",
      "  Building wheel for pathtools (setup.py) ... \u001b[?25l\u001b[?25hdone\n",
      "  Created wheel for pathtools: filename=pathtools-0.1.2-cp36-none-any.whl size=8785 sha256=6fda9abb14d906279c53996853026ecaa41e08065fa7c101b33e6126c9526628\n",
      "  Stored in directory: /root/.cache/pip/wheels/0b/04/79/c3b0c3a0266a3cb4376da31e5bfe8bba0c489246968a68e843\n",
      "Successfully built subprocess32 watchdog pathtools\n",
      "Installing collected packages: sentry-sdk, smmap, gitdb, GitPython, docker-pycreds, subprocess32, pathtools, watchdog, shortuuid, configparser, wandb\n",
      "Successfully installed GitPython-3.1.11 configparser-5.0.1 docker-pycreds-0.4.0 gitdb-4.0.5 pathtools-0.1.2 sentry-sdk-0.19.4 shortuuid-1.0.1 smmap-3.0.4 subprocess32-3.5.4 wandb-0.10.12 watchdog-0.10.4\n",
      "Collecting ptflops\n",
      "  Downloading https://files.pythonhosted.org/packages/a9/35/430caa2178d8b901d532f88b9e0701908d049b2958b30a1134e3e3e52ae7/ptflops-0.6.4.tar.gz\n",
      "Requirement already satisfied: torch in /usr/local/lib/python3.6/dist-packages (from ptflops) (1.7.0+cu101)\n",
      "Requirement already satisfied: dataclasses in /usr/local/lib/python3.6/dist-packages (from torch->ptflops) (0.8)\n",
      "Requirement already satisfied: future in /usr/local/lib/python3.6/dist-packages (from torch->ptflops) (0.16.0)\n",
      "Requirement already satisfied: numpy in /usr/local/lib/python3.6/dist-packages (from torch->ptflops) (1.18.5)\n",
      "Requirement already satisfied: typing-extensions in /usr/local/lib/python3.6/dist-packages (from torch->ptflops) (3.7.4.3)\n",
      "Building wheels for collected packages: ptflops\n",
      "  Building wheel for ptflops (setup.py) ... \u001b[?25l\u001b[?25hdone\n",
      "  Created wheel for ptflops: filename=ptflops-0.6.4-cp36-none-any.whl size=8573 sha256=4fc3a3937986e6181f42389681f772d35442a21fb8d6dad65493abe52dbf3de0\n",
      "  Stored in directory: /root/.cache/pip/wheels/4a/98/93/570ea2949d33c4c0960a8e85bc8725fe37706b933d4e5b173b\n",
      "Successfully built ptflops\n",
      "Installing collected packages: ptflops\n",
      "Successfully installed ptflops-0.6.4\n"
     ]
    }
   ],
   "source": [
    "# Install necessary packages\n",
    "!pip install wandb\n"
   ]
  },
  {
   "cell_type": "code",
   "execution_count": 2,
   "metadata": {
    "id": "wZW2jEBAMRMN"
   },
   "outputs": [
    {
     "ename": "FileNotFoundError",
     "evalue": "[WinError 3] The system cannot find the path specified: '/content/My Drive/Esh/'",
     "output_type": "error",
     "traceback": [
      "\u001b[1;31m---------------------------------------------------------------------------\u001b[0m",
      "\u001b[1;31mFileNotFoundError\u001b[0m                         Traceback (most recent call last)",
      "\u001b[1;32m<ipython-input-2-29efd4568145>\u001b[0m in \u001b[0;36m<module>\u001b[1;34m\u001b[0m\n\u001b[0;32m      1\u001b[0m \u001b[1;31m# Change Current Working Directory\u001b[0m\u001b[1;33m\u001b[0m\u001b[1;33m\u001b[0m\u001b[1;33m\u001b[0m\u001b[0m\n\u001b[0;32m      2\u001b[0m \u001b[1;32mimport\u001b[0m \u001b[0mos\u001b[0m\u001b[1;33m\u001b[0m\u001b[1;33m\u001b[0m\u001b[0m\n\u001b[1;32m----> 3\u001b[1;33m \u001b[0mos\u001b[0m\u001b[1;33m.\u001b[0m\u001b[0mchdir\u001b[0m\u001b[1;33m(\u001b[0m\u001b[1;34m\"/content/My Drive/Esh/\"\u001b[0m\u001b[1;33m)\u001b[0m\u001b[1;33m\u001b[0m\u001b[1;33m\u001b[0m\u001b[0m\n\u001b[0m",
      "\u001b[1;31mFileNotFoundError\u001b[0m: [WinError 3] The system cannot find the path specified: '/content/My Drive/Esh/'"
     ]
    }
   ],
   "source": [
    "# Change Current Working Directory\n",
    "import os\n",
    "os.chdir(\"/content/My Drive/Esh/\")"
   ]
  },
  {
   "cell_type": "markdown",
   "metadata": {
    "id": "NDqmJkrNl6C8"
   },
   "source": [
    "# Hyperparameter Sweeps"
   ]
  },
  {
   "cell_type": "code",
   "execution_count": 1,
   "metadata": {
    "colab": {
     "base_uri": "https://localhost:8080/"
    },
    "id": "vN-y02QUNW7e",
    "outputId": "b135fe90-dc2f-41cc-8883-878a20e3eacb"
   },
   "outputs": [
    {
     "name": "stderr",
     "output_type": "stream",
     "text": [
      "wandb: Appending key for api.wandb.ai to your netrc file: C:\\Users\\sures/.netrc\n"
     ]
    }
   ],
   "source": [
    "# Login to WandB\n",
    "!wandb login a96eb1d17152292d104d045304f8da02ab8fe0e1"
   ]
  },
  {
   "cell_type": "code",
   "execution_count": null,
   "metadata": {},
   "outputs": [
    {
     "name": "stderr",
     "output_type": "stream",
     "text": [
      "wandb: Currently logged in as: rsuresh002 (pes_mtech_jun21_g3). Use `wandb login --relogin` to force relogin\n"
     ]
    },
    {
     "data": {
      "text/html": [
       "Tracking run with wandb version 0.13.9"
      ],
      "text/plain": [
       "<IPython.core.display.HTML object>"
      ]
     },
     "metadata": {},
     "output_type": "display_data"
    },
    {
     "data": {
      "text/html": [
       "Run data is saved locally in <code>c:\\Mtech\\CP\\Other\\Mish-master\\exps\\wandb\\run-20230123_180948-uldvxmhr</code>"
      ],
      "text/plain": [
       "<IPython.core.display.HTML object>"
      ]
     },
     "metadata": {},
     "output_type": "display_data"
    },
    {
     "data": {
      "text/html": [
       "Syncing run <strong><a href=\"https://wandb.ai/pes_mtech_jun21_g3/test-project/runs/uldvxmhr\" target=\"_blank\">drawn-monkey-2</a></strong> to <a href=\"https://wandb.ai/pes_mtech_jun21_g3/test-project\" target=\"_blank\">Weights & Biases</a> (<a href=\"https://wandb.me/run\" target=\"_blank\">docs</a>)<br/>"
      ],
      "text/plain": [
       "<IPython.core.display.HTML object>"
      ]
     },
     "metadata": {},
     "output_type": "display_data"
    },
    {
     "data": {
      "text/html": [
       " View project at <a href=\"https://wandb.ai/pes_mtech_jun21_g3/test-project\" target=\"_blank\">https://wandb.ai/pes_mtech_jun21_g3/test-project</a>"
      ],
      "text/plain": [
       "<IPython.core.display.HTML object>"
      ]
     },
     "metadata": {},
     "output_type": "display_data"
    },
    {
     "data": {
      "text/html": [
       " View run at <a href=\"https://wandb.ai/pes_mtech_jun21_g3/test-project/runs/uldvxmhr\" target=\"_blank\">https://wandb.ai/pes_mtech_jun21_g3/test-project/runs/uldvxmhr</a>"
      ],
      "text/plain": [
       "<IPython.core.display.HTML object>"
      ]
     },
     "metadata": {},
     "output_type": "display_data"
    },
    {
     "name": "stderr",
     "output_type": "stream",
     "text": [
      "Exception in thread ChkStopThr:\n",
      "Traceback (most recent call last):\n",
      "  File \"C:\\Users\\sures\\Anaconda3\\lib\\threading.py\", line 932, in _bootstrap_inner\n",
      "Exception in thread NetStatThr:\n",
      "Traceback (most recent call last):\n",
      "  File \"C:\\Users\\sures\\Anaconda3\\lib\\threading.py\", line 932, in _bootstrap_inner\n",
      "        self.run()\n",
      "  File \"C:\\Users\\sures\\Anaconda3\\lib\\threading.py\", line 870, in run\n",
      "self.run()\n",
      "  File \"C:\\Users\\sures\\Anaconda3\\lib\\threading.py\", line 870, in run\n",
      "    self._target(*self._args, **self._kwargs)    \n",
      "self._target(*self._args, **self._kwargs)  File \"C:\\Users\\sures\\Anaconda3\\lib\\site-packages\\wandb\\sdk\\wandb_run.py\", line 273, in check_stop_status\n",
      "\n",
      "  File \"C:\\Users\\sures\\Anaconda3\\lib\\site-packages\\wandb\\sdk\\wandb_run.py\", line 255, in check_network_status\n",
      "    self._loop_check_status(\n",
      "    self._loop_check_status(  File \"C:\\Users\\sures\\Anaconda3\\lib\\site-packages\\wandb\\sdk\\wandb_run.py\", line 213, in _loop_check_status\n",
      "\n",
      "  File \"C:\\Users\\sures\\Anaconda3\\lib\\site-packages\\wandb\\sdk\\wandb_run.py\", line 213, in _loop_check_status\n",
      "    local_handle = request()\n",
      "  File \"C:\\Users\\sures\\Anaconda3\\lib\\site-packages\\wandb\\sdk\\interface\\interface.py\", line 766, in deliver_stop_status\n",
      "    local_handle = request()\n",
      "  File \"C:\\Users\\sures\\Anaconda3\\lib\\site-packages\\wandb\\sdk\\interface\\interface.py\", line 774, in deliver_network_status\n",
      "    return self._deliver_stop_status(status)\n",
      "  File \"C:\\Users\\sures\\Anaconda3\\lib\\site-packages\\wandb\\sdk\\interface\\interface_shared.py\", line 586, in _deliver_stop_status\n",
      "    return self._deliver_network_status(status)    return self._deliver_record(record)\n",
      "\n",
      "  File \"C:\\Users\\sures\\Anaconda3\\lib\\site-packages\\wandb\\sdk\\interface\\interface_shared.py\", line 592, in _deliver_network_status\n",
      "  File \"C:\\Users\\sures\\Anaconda3\\lib\\site-packages\\wandb\\sdk\\interface\\interface_shared.py\", line 561, in _deliver_record\n",
      "    return self._deliver_record(record)    \n",
      "handle = mailbox._deliver_record(record, interface=self)  File \"C:\\Users\\sures\\Anaconda3\\lib\\site-packages\\wandb\\sdk\\interface\\interface_shared.py\", line 561, in _deliver_record\n",
      "\n",
      "  File \"C:\\Users\\sures\\Anaconda3\\lib\\site-packages\\wandb\\sdk\\lib\\mailbox.py\", line 445, in _deliver_record\n",
      "    handle = mailbox._deliver_record(record, interface=self)\n",
      "      File \"C:\\Users\\sures\\Anaconda3\\lib\\site-packages\\wandb\\sdk\\lib\\mailbox.py\", line 445, in _deliver_record\n",
      "interface._publish(record)\n",
      "  File \"C:\\Users\\sures\\Anaconda3\\lib\\site-packages\\wandb\\sdk\\interface\\interface_sock.py\", line 51, in _publish\n",
      "    interface._publish(record)\n",
      "  File \"C:\\Users\\sures\\Anaconda3\\lib\\site-packages\\wandb\\sdk\\interface\\interface_sock.py\", line 51, in _publish\n",
      "    self._sock_client.send_record_publish(record)    \n",
      "  File \"C:\\Users\\sures\\Anaconda3\\lib\\site-packages\\wandb\\sdk\\lib\\sock_client.py\", line 221, in send_record_publish\n",
      "self._sock_client.send_record_publish(record)\n",
      "  File \"C:\\Users\\sures\\Anaconda3\\lib\\site-packages\\wandb\\sdk\\lib\\sock_client.py\", line 221, in send_record_publish\n",
      "    self.send_server_request(server_req)    self.send_server_request(server_req)\n",
      "\n",
      "  File \"C:\\Users\\sures\\Anaconda3\\lib\\site-packages\\wandb\\sdk\\lib\\sock_client.py\", line 155, in send_server_request\n",
      "  File \"C:\\Users\\sures\\Anaconda3\\lib\\site-packages\\wandb\\sdk\\lib\\sock_client.py\", line 155, in send_server_request\n",
      "    self._send_message(msg)    \n",
      "self._send_message(msg)  File \"C:\\Users\\sures\\Anaconda3\\lib\\site-packages\\wandb\\sdk\\lib\\sock_client.py\", line 152, in _send_message\n",
      "\n",
      "  File \"C:\\Users\\sures\\Anaconda3\\lib\\site-packages\\wandb\\sdk\\lib\\sock_client.py\", line 152, in _send_message\n",
      "    self._sendall_with_error_handle(header + data)    self._sendall_with_error_handle(header + data)\n",
      "\n",
      "  File \"C:\\Users\\sures\\Anaconda3\\lib\\site-packages\\wandb\\sdk\\lib\\sock_client.py\", line 130, in _sendall_with_error_handle\n",
      "  File \"C:\\Users\\sures\\Anaconda3\\lib\\site-packages\\wandb\\sdk\\lib\\sock_client.py\", line 130, in _sendall_with_error_handle\n",
      "        sent = self._sock.send(data)\n",
      "sent = self._sock.send(data)ConnectionResetError\n",
      "ConnectionResetError: : [WinError 10054] An existing connection was forcibly closed by the remote host[WinError 10054] An existing connection was forcibly closed by the remote host\n",
      "\n",
      "Traceback (most recent call last):\n",
      "  File \"C:\\Users\\sures\\Anaconda3\\lib\\site-packages\\wandb\\sdk\\wandb_init.py\", line 1108, in init\n",
      "    run = wi.init()\n",
      "  File \"C:\\Users\\sures\\Anaconda3\\lib\\site-packages\\wandb\\sdk\\wandb_init.py\", line 797, in init\n",
      "    run._on_start()\n",
      "  File \"C:\\Users\\sures\\Anaconda3\\lib\\site-packages\\wandb\\sdk\\wandb_run.py\", line 2148, in _on_start\n",
      "    self._on_ready()\n",
      "  File \"C:\\Users\\sures\\Anaconda3\\lib\\site-packages\\wandb\\sdk\\wandb_run.py\", line 2189, in _on_ready\n",
      "    self._telemetry_flush()\n",
      "  File \"C:\\Users\\sures\\Anaconda3\\lib\\site-packages\\wandb\\sdk\\wandb_run.py\", line 703, in _telemetry_flush\n",
      "    self._backend.interface._publish_telemetry(self._telemetry_obj)\n",
      "  File \"C:\\Users\\sures\\Anaconda3\\lib\\site-packages\\wandb\\sdk\\interface\\interface_shared.py\", line 101, in _publish_telemetry\n",
      "    self._publish(rec)\n",
      "  File \"C:\\Users\\sures\\Anaconda3\\lib\\site-packages\\wandb\\sdk\\interface\\interface_sock.py\", line 51, in _publish\n",
      "    self._sock_client.send_record_publish(record)\n",
      "  File \"C:\\Users\\sures\\Anaconda3\\lib\\site-packages\\wandb\\sdk\\lib\\sock_client.py\", line 221, in send_record_publish\n",
      "    self.send_server_request(server_req)\n",
      "  File \"C:\\Users\\sures\\Anaconda3\\lib\\site-packages\\wandb\\sdk\\lib\\sock_client.py\", line 155, in send_server_request\n",
      "    self._send_message(msg)\n",
      "  File \"C:\\Users\\sures\\Anaconda3\\lib\\site-packages\\wandb\\sdk\\lib\\sock_client.py\", line 152, in _send_message\n",
      "    self._sendall_with_error_handle(header + data)\n",
      "  File \"C:\\Users\\sures\\Anaconda3\\lib\\site-packages\\wandb\\sdk\\lib\\sock_client.py\", line 130, in _sendall_with_error_handle\n",
      "    sent = self._sock.send(data)\n",
      "ConnectionResetError: [WinError 10054] An existing connection was forcibly closed by the remote host\n"
     ]
    },
    {
     "name": "stdout",
     "output_type": "stream",
     "text": [
      "Problem at: <ipython-input-2-06ade6edb896> 3 <module>\n"
     ]
    }
   ],
   "source": [
    "import wandb\n",
    "\n",
    "wandb.init(project=\"test-project\", entity=\"pes_mtech_jun21_g3\")"
   ]
  },
  {
   "cell_type": "code",
   "execution_count": null,
   "metadata": {},
   "outputs": [],
   "source": [
    "wandb.config = {\n",
    "  \"learning_rate\": 0.001,\n",
    "  \"epochs\": 100,\n",
    "  \"batch_size\": 128\n",
    "}"
   ]
  },
  {
   "cell_type": "code",
   "execution_count": 6,
   "metadata": {
    "id": "RZ_cxnL9QBA6"
   },
   "outputs": [
    {
     "name": "stderr",
     "output_type": "stream",
     "text": [
      "Usage: wandb sweep [OPTIONS] CONFIG_YAML_OR_SWEEP_ID\n",
      "Try 'wandb sweep --help' for help.\n",
      "\n",
      "Error: Got unexpected extra arguments (# Outputs the Sweep ID)\n"
     ]
    }
   ],
   "source": [
    "# Imports the parameter configuration for the sweep run. To add more hyperparameters in the suite, simply edit the sweep.yaml file.\n",
    "!wandb sweep sweep.yaml    # Outputs the Sweep ID"
   ]
  },
  {
   "cell_type": "code",
   "execution_count": null,
   "metadata": {
    "collapsed": true,
    "id": "FyBqqaBHQdDJ"
   },
   "outputs": [],
   "source": [
    "# Uncomment the next line to run the Sweep\n",
    "#!wandb agent {insert sweep ID printed in the above cell's output}"
   ]
  }
 ],
 "metadata": {
  "accelerator": "GPU",
  "colab": {
   "collapsed_sections": [
    "nyE_MqOoaY_B",
    "IovCm4EhkxdF"
   ],
   "name": "Mish_test.ipynb",
   "provenance": []
  },
  "kernelspec": {
   "display_name": "Python 3",
   "language": "python",
   "name": "python3"
  },
  "language_info": {
   "codemirror_mode": {
    "name": "ipython",
    "version": 3
   },
   "file_extension": ".py",
   "mimetype": "text/x-python",
   "name": "python",
   "nbconvert_exporter": "python",
   "pygments_lexer": "ipython3",
   "version": "3.8.8"
  }
 },
 "nbformat": 4,
 "nbformat_minor": 1
}
